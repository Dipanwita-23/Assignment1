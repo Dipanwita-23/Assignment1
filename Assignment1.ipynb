{
 "cells": [
  {
   "cell_type": "markdown",
   "id": "8f3669c9-7a6c-4ffc-a40a-67ce20473636",
   "metadata": {},
   "source": [
    "#Question1"
   ]
  },
  {
   "cell_type": "code",
   "execution_count": 25,
   "id": "a2511987-bab9-479b-bc65-21cfc0a9052d",
   "metadata": {},
   "outputs": [],
   "source": [
    "v = (\"dipa\",[1,2,3],1.5,(1,3,5))"
   ]
  },
  {
   "cell_type": "code",
   "execution_count": 26,
   "id": "78d85bc5-7ffc-468e-ae6e-0efbca4453ab",
   "metadata": {},
   "outputs": [
    {
     "data": {
      "text/plain": [
       "('dipa', [1, 2, 3], 1.5, (1, 3, 5))"
      ]
     },
     "execution_count": 26,
     "metadata": {},
     "output_type": "execute_result"
    }
   ],
   "source": [
    "v"
   ]
  },
  {
   "cell_type": "markdown",
   "id": "e9b20792-dc32-4f42-9e2d-35ffea98df9a",
   "metadata": {},
   "source": [
    "#Question2"
   ]
  },
  {
   "cell_type": "markdown",
   "id": "b21860b4-62ed-4bb0-9d57-700b1e213f28",
   "metadata": {},
   "source": [
    "var1=String\n",
    "var2=String\n",
    "var3=List\n",
    "var4=Integer"
   ]
  },
  {
   "cell_type": "markdown",
   "id": "5ed8bf86-fd9d-468a-bdd7-6c2795717fce",
   "metadata": {},
   "source": [
    "#Question3"
   ]
  },
  {
   "cell_type": "markdown",
   "id": "8388df84-9510-4a64-b949-8f8111f960aa",
   "metadata": {},
   "source": [
    "1.\" / \" acts as Division operator. That is if we devide 7 by 2 it should results to 3.5."
   ]
  },
  {
   "cell_type": "code",
   "execution_count": 22,
   "id": "68b0e869-128f-4b2e-82a7-f4dc84cc6ebf",
   "metadata": {},
   "outputs": [
    {
     "data": {
      "text/plain": [
       "3.5"
      ]
     },
     "execution_count": 22,
     "metadata": {},
     "output_type": "execute_result"
    }
   ],
   "source": [
    "7/2"
   ]
  },
  {
   "cell_type": "markdown",
   "id": "754d51bb-88c7-4e83-bfaa-5d7b3607f019",
   "metadata": {},
   "source": [
    "2.\" % \" acts as Modulus operator. That is it will return back the reminder of devision."
   ]
  },
  {
   "cell_type": "code",
   "execution_count": 21,
   "id": "687b9d64-7e07-4f00-a5a7-335ba4b7b80f",
   "metadata": {},
   "outputs": [
    {
     "data": {
      "text/plain": [
       "1"
      ]
     },
     "execution_count": 21,
     "metadata": {},
     "output_type": "execute_result"
    }
   ],
   "source": [
    "7%2"
   ]
  },
  {
   "cell_type": "markdown",
   "id": "7b08e753-8d95-41f8-bccf-c89b1210054f",
   "metadata": {},
   "source": [
    "3.\" // \" acts as Floor Division operator. That is it will devide the first number by second one and return back the result in nearest whole number"
   ]
  },
  {
   "cell_type": "code",
   "execution_count": 20,
   "id": "e77dc87e-f2ce-4f87-8da4-8473f0926ca3",
   "metadata": {},
   "outputs": [
    {
     "data": {
      "text/plain": [
       "3"
      ]
     },
     "execution_count": 20,
     "metadata": {},
     "output_type": "execute_result"
    }
   ],
   "source": [
    "7//2"
   ]
  },
  {
   "cell_type": "markdown",
   "id": "2f1683c4-a338-411d-9ccf-3169ceb4fc5e",
   "metadata": {},
   "source": [
    "4.\" ** \" acts as Floor Exponential operator. That is it will multiply the first number with itself by the number of times as second number"
   ]
  },
  {
   "cell_type": "code",
   "execution_count": 19,
   "id": "15014397-86d6-4019-af3e-dd975e6caf88",
   "metadata": {},
   "outputs": [
    {
     "data": {
      "text/plain": [
       "49"
      ]
     },
     "execution_count": 19,
     "metadata": {},
     "output_type": "execute_result"
    }
   ],
   "source": [
    "7**2"
   ]
  },
  {
   "cell_type": "markdown",
   "id": "4db25377-4b21-4dd7-8bcf-6fb80d1f1c29",
   "metadata": {},
   "source": [
    "#Question4"
   ]
  },
  {
   "cell_type": "code",
   "execution_count": 18,
   "id": "2fb27e86-5481-4eac-8a50-12a98b10c7f8",
   "metadata": {},
   "outputs": [
    {
     "name": "stdout",
     "output_type": "stream",
     "text": [
      "1 <class 'int'>\n",
      "5.2 <class 'float'>\n",
      "home <class 'str'>\n",
      "True <class 'bool'>\n",
      "8 <class 'int'>\n",
      "6.3 <class 'float'>\n",
      "2023 <class 'int'>\n",
      "people <class 'str'>\n",
      "False <class 'bool'>\n",
      "9 <class 'int'>\n"
     ]
    }
   ],
   "source": [
    "L= [1,5.2,\"home\",True,8,6.3,2023,'people',False,9]\n",
    "for i in L:\n",
    "    print(i,type(i))"
   ]
  },
  {
   "cell_type": "markdown",
   "id": "6ff37ca0-a152-46d8-ae0c-8205b3bcb152",
   "metadata": {},
   "source": [
    "#Question5"
   ]
  },
  {
   "cell_type": "code",
   "execution_count": 1,
   "id": "626a0b21-c428-40e4-accc-c4b48d13f09a",
   "metadata": {},
   "outputs": [
    {
     "name": "stdin",
     "output_type": "stream",
     "text": [
      " 8\n",
      " 2\n"
     ]
    },
    {
     "name": "stdout",
     "output_type": "stream",
     "text": [
      "A is perfectly divisible by B and the number of divition is  3\n"
     ]
    }
   ],
   "source": [
    "A=int(input())\n",
    "B=int(input())\n",
    "count=0\n",
    "while A%B==0:\n",
    "    A=A//B\n",
    "    count=count+1\n",
    "if A==1:\n",
    "    print(\"A is perfectly divisible by B and the number of divition is \",count)\n",
    "else:\n",
    "    print(\"A is not perfectly divisible by B\")"
   ]
  },
  {
   "cell_type": "markdown",
   "id": "1da31dcb-0e61-4071-af1b-34464eb1ec4f",
   "metadata": {},
   "source": [
    "#Question6"
   ]
  },
  {
   "cell_type": "code",
   "execution_count": 2,
   "id": "0bfa6e3e-9ecd-438a-9acf-2c933c4b3c72",
   "metadata": {},
   "outputs": [
    {
     "name": "stdout",
     "output_type": "stream",
     "text": [
      "1  is not divisible by 3\n",
      "2  is not divisible by 3\n",
      "3  is divisible by 3\n",
      "4  is not divisible by 3\n",
      "5  is not divisible by 3\n",
      "6  is divisible by 3\n",
      "7  is not divisible by 3\n",
      "8  is not divisible by 3\n",
      "9  is divisible by 3\n",
      "10  is not divisible by 3\n",
      "11  is not divisible by 3\n",
      "12  is divisible by 3\n",
      "13  is not divisible by 3\n",
      "14  is not divisible by 3\n",
      "15  is divisible by 3\n",
      "16  is not divisible by 3\n",
      "17  is not divisible by 3\n",
      "18  is divisible by 3\n",
      "19  is not divisible by 3\n",
      "20  is not divisible by 3\n",
      "21  is divisible by 3\n",
      "22  is not divisible by 3\n",
      "23  is not divisible by 3\n",
      "24  is divisible by 3\n",
      "25  is not divisible by 3\n"
     ]
    }
   ],
   "source": [
    "L=[1,2,3,4,5,6,7,8,9,10,11,12,13,14,15,16,17,18,19,20,21,22,23,24,25]\n",
    "for i in L :\n",
    "    if i%3==0:\n",
    "        print (i,\" is divisible by 3\")\n",
    "    else:\n",
    "        print (i,\" is not divisible by 3\")"
   ]
  },
  {
   "cell_type": "markdown",
   "id": "2800614c-3b90-43c9-86bc-b7e17d11109b",
   "metadata": {},
   "source": [
    "#Question7"
   ]
  },
  {
   "cell_type": "markdown",
   "id": "2c6bd948-5bcf-47de-9a29-03d9c8f6e8ce",
   "metadata": {},
   "source": [
    "In mutable data type we can modify the elements in the data. But for immutable one we can not modify any element of it.\n",
    "List is mutable and String is immutable."
   ]
  },
  {
   "cell_type": "code",
   "execution_count": 10,
   "id": "f6e05956-f97b-4df7-86b3-00aab14d96e3",
   "metadata": {},
   "outputs": [],
   "source": [
    "L=[1,\"y\",5]"
   ]
  },
  {
   "cell_type": "code",
   "execution_count": 13,
   "id": "0b6ac200-4d6d-4085-8933-7de89b3b40e4",
   "metadata": {},
   "outputs": [],
   "source": [
    "L[2]=\"x\""
   ]
  },
  {
   "cell_type": "code",
   "execution_count": 14,
   "id": "fee469ee-33d0-4d11-8290-d854f27eb386",
   "metadata": {},
   "outputs": [
    {
     "data": {
      "text/plain": [
       "[1, 'y', 'x']"
      ]
     },
     "execution_count": 14,
     "metadata": {},
     "output_type": "execute_result"
    }
   ],
   "source": [
    "L"
   ]
  },
  {
   "cell_type": "markdown",
   "id": "9665fd87-958d-405d-81cf-3d392587d657",
   "metadata": {},
   "source": [
    "Here in list L we can able to change element 5 to x. So List is mutable"
   ]
  },
  {
   "cell_type": "code",
   "execution_count": 16,
   "id": "2448ba6b-b35b-4321-8c66-fe30fa825811",
   "metadata": {},
   "outputs": [
    {
     "data": {
      "text/plain": [
       "'m'"
      ]
     },
     "execution_count": 16,
     "metadata": {},
     "output_type": "execute_result"
    }
   ],
   "source": [
    "S='It is my family'\n",
    "S[6]"
   ]
  },
  {
   "cell_type": "code",
   "execution_count": 17,
   "id": "607db40a-c2bc-49d6-85f4-814ab2e584aa",
   "metadata": {},
   "outputs": [
    {
     "ename": "TypeError",
     "evalue": "'str' object does not support item assignment",
     "output_type": "error",
     "traceback": [
      "\u001b[0;31m---------------------------------------------------------------------------\u001b[0m",
      "\u001b[0;31mTypeError\u001b[0m                                 Traceback (most recent call last)",
      "Cell \u001b[0;32mIn[17], line 1\u001b[0m\n\u001b[0;32m----> 1\u001b[0m \u001b[43mS\u001b[49m\u001b[43m[\u001b[49m\u001b[38;5;241;43m6\u001b[39;49m\u001b[43m]\u001b[49m\u001b[38;5;241m=\u001b[39m\u001b[38;5;241m9\u001b[39m\n",
      "\u001b[0;31mTypeError\u001b[0m: 'str' object does not support item assignment"
     ]
    }
   ],
   "source": [
    "S[6]=9"
   ]
  },
  {
   "cell_type": "markdown",
   "id": "77cba440-2ff9-4626-8ed5-74bda7376451",
   "metadata": {},
   "source": [
    "String does not suport this kind of operation"
   ]
  },
  {
   "cell_type": "code",
   "execution_count": null,
   "id": "bd9b271e-fa60-4dae-ab81-8bbae7f5bf89",
   "metadata": {},
   "outputs": [],
   "source": []
  }
 ],
 "metadata": {
  "kernelspec": {
   "display_name": "Python 3 (ipykernel)",
   "language": "python",
   "name": "python3"
  },
  "language_info": {
   "codemirror_mode": {
    "name": "ipython",
    "version": 3
   },
   "file_extension": ".py",
   "mimetype": "text/x-python",
   "name": "python",
   "nbconvert_exporter": "python",
   "pygments_lexer": "ipython3",
   "version": "3.10.8"
  }
 },
 "nbformat": 4,
 "nbformat_minor": 5
}
